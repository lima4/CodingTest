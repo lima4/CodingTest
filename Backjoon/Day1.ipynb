{
 "cells": [
  {
   "cell_type": "markdown",
   "metadata": {},
   "source": [
    "# 손익분기점 1712번\n",
    "\n",
    "월드전자는 노트북을 제조하고 판매하는 회사이다. 노트북 판매 대수에 상관없이 매년 임대료, 재산세, 보험료, 급여 등 A만원의 고정비용이 들며, 한 대의 노트북을 생산하는 데에는 재료비와 인건비 등 총 B만원의 가변 비용이 든다고 한다.\n",
    "\n",
    "예를 들어 A=1000, B=70이라고 하자. 이 경우 노트북을 한 대 생산하는 데는 총 1070만언이 들며, 열 대 생산하는데는 총 1700만원이 든다. \n",
    "노트북 가격이 C만원으로 측정되었다고 한다. 일반적으로는 생산 대수를 늘려 가다 보면 어느 순간 총 수입(판매비용)이 총 비용(고정비용+가변비용)보다 많아지게 된다. 최초로 총 수입이 총 비용보다 많아져 이익이 발생하는 지점을 손익분기점이라고 한다. \n",
    "A,B,C가 주어졌을 때, 손익분기점을 구하는 프로그램을 작성하시오\n",
    "\n",
    "EX) 1000 고정비용 70 가변비용 170 노트북 가격 \n",
    "Answer) : 11 "
   ]
  },
  {
   "cell_type": "code",
   "execution_count": 1,
   "metadata": {},
   "outputs": [
    {
     "name": "stdout",
     "output_type": "stream",
     "text": [
      "11\n"
     ]
    }
   ],
   "source": [
    "A, B, C = map(int, input().split())\n",
    "\n",
    "if B >=C:\n",
    "    print(-1)\n",
    "else:\n",
    "    print(A//(C-B)+1)"
   ]
  },
  {
   "cell_type": "markdown",
   "metadata": {},
   "source": [
    "# 오븐시계 2525번\n",
    "\n",
    "KOI 전자에서는 건강에 좋고 맛있는 훈제오리구이 요리를 간편하게 만드는 인공지능 오븐을 개발하려고 한다. 인공지능 오븐을 사용하는 방법은 적당한 양의 오리 훈제 재료를 인공지능 오븐에 넣으면 된다. 그러면 인공지능 오븐은 오븐구이가 끝나는 시간을 분 단위로 자동적으로 계산한다. \n",
    "\n",
    "또한, KOI 전자의 인공지능 오븐 앞면에는 사용자에게 훈제오리구이 요리가 끝나는 시각을 알려 주는 디지털 시계가 있다. \n",
    "\n",
    "훈제오리구이를 시작하는 시각과 오븐구이를 하는 데 필요한 시간이 분단위로 주어졌을 때, 오븐구이가 끝나는 시각을 계산하는 프로그램을 작성하시오.\n",
    "\n",
    "첫째 줄에는 현재 시각이 나온다. 현재 시각은 시 A (0 ≤ A ≤ 23) 와 분 B (0 ≤ B ≤ 59)가 정수로 빈칸을 사이에 두고 순서대로 주어진다. 두 번째 줄에는 요리하는 데 필요한 시간 C (0 ≤ C ≤ 1,000)가 분 단위로 주어진다. "
   ]
  },
  {
   "cell_type": "code",
   "execution_count": null,
   "metadata": {},
   "outputs": [
    {
     "name": "stdout",
     "output_type": "stream",
     "text": [
      "14 50\n"
     ]
    }
   ],
   "source": [
    "\"\"\"\n",
    "앞에서 정의할 생각을 하지 못하였다.\n",
    "앞에서 A, B에 대해서 60을 기준으로 정의하기 \n",
    "\"\"\"\n",
    "A, B = map(int, input().split())\n",
    "C = int(input())\n",
    "A +=C // 60 # C를 60으로 나눈 몫을 더하기\n",
    "B += C % 60 # C를 60으로 나눈 나머지 더하기 저장\n",
    "\n",
    "if B >= 60: # 위에서 저장한 B가 60보다 크다면\n",
    "    A+=1 \n",
    "    B -=60 # B에서 60분을 빼주기 \n",
    "\n",
    "if A >=24: # 시간은 24시간이므로 24를 넘어간다면 24를 빼주기 \n",
    "    A-=24\n",
    "    \n",
    "print(A,B)"
   ]
  },
  {
   "cell_type": "markdown",
   "metadata": {},
   "source": [
    "# 평균은 넘겠지 4344번 \n",
    "대학생 새내기들의 90%는 자신이 반에서 평균은 넘는다고 생각한다. 당신은 그들에게 슬픈 진실을 알려줘야 한다.\n",
    "\n",
    "EX) \n",
    "5\n",
    "5 50 50 70 80 100\n",
    "7 100 95 90 80 70 60 50\n",
    "3 70 90 80\n",
    "3 70 90 81\n",
    "9 100 99 98 97 96 95 94 93 91\n",
    "\n",
    "Answer) \n",
    "40.000%\n",
    "57.143%\n",
    "33.333%\n",
    "66.667%\n",
    "55.556%"
   ]
  },
  {
   "cell_type": "markdown",
   "metadata": {},
   "source": []
  },
  {
   "cell_type": "code",
   "execution_count": 3,
   "metadata": {},
   "outputs": [
    {
     "name": "stdout",
     "output_type": "stream",
     "text": [
      "40.000%\n",
      "57.143%\n",
      "33.333%\n",
      "66.667%\n",
      "55.556%\n"
     ]
    }
   ],
   "source": [
    "C = int(input())\n",
    "\n",
    "for _ in range(C): # 테스트 케이스의 갯수만큼 입력\n",
    "    n = list(map(int, input().split())) # list로 n에 저장 \n",
    "    avg = sum(n[1:])/n[0] # 첫번째 수가 학생의 수로 주어지므로 avg 계산\n",
    "    cnt = 0\n",
    "    for score in n[1:]:\n",
    "        if score > avg:\n",
    "            cnt +=1\n",
    "    rate = cnt/n[0] * 100\n",
    "    print(f'{rate:.3f}%') # fstring을 이용하여 소수점 3자리까지 print하기 "
   ]
  },
  {
   "cell_type": "code",
   "execution_count": null,
   "metadata": {},
   "outputs": [],
   "source": []
  },
  {
   "cell_type": "code",
   "execution_count": null,
   "metadata": {},
   "outputs": [],
   "source": []
  }
 ],
 "metadata": {
  "interpreter": {
   "hash": "50e972bb38371279c9959472515aebbffb7a236265dc3ec0fac0bba4a02003f0"
  },
  "kernelspec": {
   "display_name": "Python 3.10.4 64-bit",
   "language": "python",
   "name": "python3"
  },
  "language_info": {
   "codemirror_mode": {
    "name": "ipython",
    "version": 3
   },
   "file_extension": ".py",
   "mimetype": "text/x-python",
   "name": "python",
   "nbconvert_exporter": "python",
   "pygments_lexer": "ipython3",
   "version": "3.7.12"
  },
  "orig_nbformat": 4
 },
 "nbformat": 4,
 "nbformat_minor": 2
}
